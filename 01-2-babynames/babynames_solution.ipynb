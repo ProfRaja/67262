{
 "cells": [
  {
   "cell_type": "markdown",
   "metadata": {},
   "source": [
    "## Introduction to SQL"
   ]
  },
  {
   "cell_type": "markdown",
   "metadata": {},
   "source": [
    "**Load the data set with**\n",
    "\n",
    "    psql -U isdb -d postgres -f babynames_load.sql"
   ]
  },
  {
   "cell_type": "code",
   "execution_count": 1,
   "metadata": {
    "scrolled": false
   },
   "outputs": [],
   "source": [
    "%load_ext sql"
   ]
  },
  {
   "cell_type": "code",
   "execution_count": 2,
   "metadata": {},
   "outputs": [
    {
     "data": {
      "text/plain": [
       "'Connected: isdb@postgres'"
      ]
     },
     "execution_count": 2,
     "metadata": {},
     "output_type": "execute_result"
    }
   ],
   "source": [
    "%%sql\n",
    "postgresql://isdb@localhost/postgres"
   ]
  },
  {
   "cell_type": "markdown",
   "metadata": {},
   "source": [
    "**[Q] What is the total number of records in the file (1 record per line)**"
   ]
  },
  {
   "cell_type": "code",
   "execution_count": 3,
   "metadata": {},
   "outputs": [
    {
     "name": "stdout",
     "output_type": "stream",
     "text": [
      "1 rows affected.\n"
     ]
    },
    {
     "data": {
      "text/html": [
       "<table>\n",
       "    <tr>\n",
       "        <th>count</th>\n",
       "    </tr>\n",
       "    <tr>\n",
       "        <td>5838786</td>\n",
       "    </tr>\n",
       "</table>"
      ],
      "text/plain": [
       "[(5838786,)]"
      ]
     },
     "execution_count": 3,
     "metadata": {},
     "output_type": "execute_result"
    }
   ],
   "source": [
    "%%sql\n",
    "\n",
    "select count(fname)\n",
    "  from Baby_Names;"
   ]
  },
  {
   "cell_type": "markdown",
   "metadata": {},
   "source": [
    "** [Q] According to this data set, what is the total number of babies?**"
   ]
  },
  {
   "cell_type": "code",
   "execution_count": 4,
   "metadata": {},
   "outputs": [
    {
     "name": "stdout",
     "output_type": "stream",
     "text": [
      "1 rows affected.\n"
     ]
    },
    {
     "data": {
      "text/html": [
       "<table>\n",
       "    <tr>\n",
       "        <th>sum</th>\n",
       "    </tr>\n",
       "    <tr>\n",
       "        <td>305154531</td>\n",
       "    </tr>\n",
       "</table>"
      ],
      "text/plain": [
       "[(305154531,)]"
      ]
     },
     "execution_count": 4,
     "metadata": {},
     "output_type": "execute_result"
    }
   ],
   "source": [
    "%%sql\n",
    "\n",
    "select sum(number)\n",
    "  from Baby_Names;"
   ]
  },
  {
   "cell_type": "markdown",
   "metadata": {},
   "source": [
    "** [Q] How many boys were born?**"
   ]
  },
  {
   "cell_type": "code",
   "execution_count": 7,
   "metadata": {},
   "outputs": [
    {
     "name": "stdout",
     "output_type": "stream",
     "text": [
      "1 rows affected.\n"
     ]
    },
    {
     "data": {
      "text/html": [
       "<table>\n",
       "    <tr>\n",
       "        <th>sum</th>\n",
       "    </tr>\n",
       "    <tr>\n",
       "        <td>158464584</td>\n",
       "    </tr>\n",
       "</table>"
      ],
      "text/plain": [
       "[(158464584,)]"
      ]
     },
     "execution_count": 7,
     "metadata": {},
     "output_type": "execute_result"
    }
   ],
   "source": [
    "%%sql\n",
    "\n",
    "  select sum(number)\n",
    "    from Baby_Names\n",
    "   where gender = 'M'"
   ]
  },
  {
   "cell_type": "markdown",
   "metadata": {},
   "source": [
    "**[Q] How many girls were born?**"
   ]
  },
  {
   "cell_type": "code",
   "execution_count": 11,
   "metadata": {},
   "outputs": [
    {
     "name": "stdout",
     "output_type": "stream",
     "text": [
      "1 rows affected.\n"
     ]
    },
    {
     "data": {
      "text/html": [
       "<table>\n",
       "    <tr>\n",
       "        <th>sum</th>\n",
       "    </tr>\n",
       "    <tr>\n",
       "        <td>146689947</td>\n",
       "    </tr>\n",
       "</table>"
      ],
      "text/plain": [
       "[(146689947,)]"
      ]
     },
     "execution_count": 11,
     "metadata": {},
     "output_type": "execute_result"
    }
   ],
   "source": [
    "%%sql\n",
    "\n",
    "  select sum(number)\n",
    "    from Baby_Names\n",
    "   where gender = 'F'"
   ]
  },
  {
   "cell_type": "markdown",
   "metadata": {},
   "source": [
    "**[Q] Suppose we want to see the count of boys and girls at the same time?**"
   ]
  },
  {
   "cell_type": "code",
   "execution_count": 12,
   "metadata": {},
   "outputs": [
    {
     "name": "stdout",
     "output_type": "stream",
     "text": [
      "2 rows affected.\n"
     ]
    },
    {
     "data": {
      "text/html": [
       "<table>\n",
       "    <tr>\n",
       "        <th>gender</th>\n",
       "        <th>sum</th>\n",
       "    </tr>\n",
       "    <tr>\n",
       "        <td>F</td>\n",
       "        <td>146689947</td>\n",
       "    </tr>\n",
       "    <tr>\n",
       "        <td>M</td>\n",
       "        <td>158464584</td>\n",
       "    </tr>\n",
       "</table>"
      ],
      "text/plain": [
       "[('F', 146689947), ('M', 158464584)]"
      ]
     },
     "execution_count": 12,
     "metadata": {},
     "output_type": "execute_result"
    }
   ],
   "source": [
    "%%sql\n",
    "\n",
    "  select gender, sum(number)\n",
    "    from Baby_Names\n",
    "group by gender;"
   ]
  },
  {
   "cell_type": "markdown",
   "metadata": {},
   "source": [
    "**[Q] Order the states by the number of births and list the top 10**"
   ]
  },
  {
   "cell_type": "code",
   "execution_count": 15,
   "metadata": {},
   "outputs": [
    {
     "name": "stdout",
     "output_type": "stream",
     "text": [
      "10 rows affected.\n"
     ]
    },
    {
     "data": {
      "text/html": [
       "<table>\n",
       "    <tr>\n",
       "        <th>state</th>\n",
       "        <th>sum</th>\n",
       "    </tr>\n",
       "    <tr>\n",
       "        <td>CA</td>\n",
       "        <td>30115165</td>\n",
       "    </tr>\n",
       "    <tr>\n",
       "        <td>NY</td>\n",
       "        <td>24278846</td>\n",
       "    </tr>\n",
       "    <tr>\n",
       "        <td>TX</td>\n",
       "        <td>22531981</td>\n",
       "    </tr>\n",
       "    <tr>\n",
       "        <td>PA</td>\n",
       "        <td>17001653</td>\n",
       "    </tr>\n",
       "    <tr>\n",
       "        <td>IL</td>\n",
       "        <td>15552256</td>\n",
       "    </tr>\n",
       "    <tr>\n",
       "        <td>OH</td>\n",
       "        <td>14541388</td>\n",
       "    </tr>\n",
       "    <tr>\n",
       "        <td>MI</td>\n",
       "        <td>11915920</td>\n",
       "    </tr>\n",
       "    <tr>\n",
       "        <td>FL</td>\n",
       "        <td>9826318</td>\n",
       "    </tr>\n",
       "    <tr>\n",
       "        <td>NC</td>\n",
       "        <td>8732253</td>\n",
       "    </tr>\n",
       "    <tr>\n",
       "        <td>NJ</td>\n",
       "        <td>8555911</td>\n",
       "    </tr>\n",
       "</table>"
      ],
      "text/plain": [
       "[('CA', 30115165),\n",
       " ('NY', 24278846),\n",
       " ('TX', 22531981),\n",
       " ('PA', 17001653),\n",
       " ('IL', 15552256),\n",
       " ('OH', 14541388),\n",
       " ('MI', 11915920),\n",
       " ('FL', 9826318),\n",
       " ('NC', 8732253),\n",
       " ('NJ', 8555911)]"
      ]
     },
     "execution_count": 15,
     "metadata": {},
     "output_type": "execute_result"
    }
   ],
   "source": [
    "%%sql\n",
    "\n",
    "  select state, sum(number)\n",
    "    from Baby_Names \n",
    "   group by state\n",
    "order by sum(number) desc\n",
    "   limit 10;"
   ]
  },
  {
   "cell_type": "markdown",
   "metadata": {},
   "source": [
    "** [Q] What are the most popular baby names in 2016 **"
   ]
  },
  {
   "cell_type": "code",
   "execution_count": 17,
   "metadata": {},
   "outputs": [
    {
     "name": "stdout",
     "output_type": "stream",
     "text": [
      "10 rows affected.\n"
     ]
    },
    {
     "data": {
      "text/html": [
       "<table>\n",
       "    <tr>\n",
       "        <th>fname</th>\n",
       "        <th>sum</th>\n",
       "    </tr>\n",
       "    <tr>\n",
       "        <td>Emma</td>\n",
       "        <td>19414</td>\n",
       "    </tr>\n",
       "    <tr>\n",
       "        <td>Olivia</td>\n",
       "        <td>19246</td>\n",
       "    </tr>\n",
       "    <tr>\n",
       "        <td>Noah</td>\n",
       "        <td>19093</td>\n",
       "    </tr>\n",
       "    <tr>\n",
       "        <td>Liam</td>\n",
       "        <td>18138</td>\n",
       "    </tr>\n",
       "    <tr>\n",
       "        <td>Ava</td>\n",
       "        <td>16237</td>\n",
       "    </tr>\n",
       "    <tr>\n",
       "        <td>Sophia</td>\n",
       "        <td>16070</td>\n",
       "    </tr>\n",
       "    <tr>\n",
       "        <td>William</td>\n",
       "        <td>15668</td>\n",
       "    </tr>\n",
       "    <tr>\n",
       "        <td>Mason</td>\n",
       "        <td>15240</td>\n",
       "    </tr>\n",
       "    <tr>\n",
       "        <td>James</td>\n",
       "        <td>14790</td>\n",
       "    </tr>\n",
       "    <tr>\n",
       "        <td>Isabella</td>\n",
       "        <td>14722</td>\n",
       "    </tr>\n",
       "</table>"
      ],
      "text/plain": [
       "[('Emma', 19414),\n",
       " ('Olivia', 19246),\n",
       " ('Noah', 19093),\n",
       " ('Liam', 18138),\n",
       " ('Ava', 16237),\n",
       " ('Sophia', 16070),\n",
       " ('William', 15668),\n",
       " ('Mason', 15240),\n",
       " ('James', 14790),\n",
       " ('Isabella', 14722)]"
      ]
     },
     "execution_count": 17,
     "metadata": {},
     "output_type": "execute_result"
    }
   ],
   "source": [
    "%%sql\n",
    "-- emma, olivia, noah \n",
    "\n",
    "   select fname, sum(number)\n",
    "     from baby_names\n",
    "    where year = 2016\n",
    " group by fname \n",
    " order by sum(number) desc\n",
    "    limit 10;\n"
   ]
  },
  {
   "cell_type": "markdown",
   "metadata": {},
   "source": [
    "**[Q] What are the most popular boy's names in 2016?**"
   ]
  },
  {
   "cell_type": "code",
   "execution_count": 18,
   "metadata": {},
   "outputs": [
    {
     "name": "stdout",
     "output_type": "stream",
     "text": [
      "10 rows affected.\n"
     ]
    },
    {
     "data": {
      "text/html": [
       "<table>\n",
       "    <tr>\n",
       "        <th>fname</th>\n",
       "        <th>sum</th>\n",
       "    </tr>\n",
       "    <tr>\n",
       "        <td>Noah</td>\n",
       "        <td>19015</td>\n",
       "    </tr>\n",
       "    <tr>\n",
       "        <td>Liam</td>\n",
       "        <td>18138</td>\n",
       "    </tr>\n",
       "    <tr>\n",
       "        <td>William</td>\n",
       "        <td>15668</td>\n",
       "    </tr>\n",
       "    <tr>\n",
       "        <td>Mason</td>\n",
       "        <td>15192</td>\n",
       "    </tr>\n",
       "    <tr>\n",
       "        <td>James</td>\n",
       "        <td>14776</td>\n",
       "    </tr>\n",
       "    <tr>\n",
       "        <td>Benjamin</td>\n",
       "        <td>14569</td>\n",
       "    </tr>\n",
       "    <tr>\n",
       "        <td>Jacob</td>\n",
       "        <td>14416</td>\n",
       "    </tr>\n",
       "    <tr>\n",
       "        <td>Michael</td>\n",
       "        <td>13998</td>\n",
       "    </tr>\n",
       "    <tr>\n",
       "        <td>Elijah</td>\n",
       "        <td>13764</td>\n",
       "    </tr>\n",
       "    <tr>\n",
       "        <td>Ethan</td>\n",
       "        <td>13758</td>\n",
       "    </tr>\n",
       "</table>"
      ],
      "text/plain": [
       "[('Noah', 19015),\n",
       " ('Liam', 18138),\n",
       " ('William', 15668),\n",
       " ('Mason', 15192),\n",
       " ('James', 14776),\n",
       " ('Benjamin', 14569),\n",
       " ('Jacob', 14416),\n",
       " ('Michael', 13998),\n",
       " ('Elijah', 13764),\n",
       " ('Ethan', 13758)]"
      ]
     },
     "execution_count": 18,
     "metadata": {},
     "output_type": "execute_result"
    }
   ],
   "source": [
    "%%sql \n",
    "\n",
    "   select fname, sum(number)\n",
    "     from baby_names\n",
    "    where (year = 2016) and (gender='M')\n",
    " group by fname \n",
    " order by sum(number) desc\n",
    "    limit 10;"
   ]
  },
  {
   "cell_type": "markdown",
   "metadata": {},
   "source": [
    "**[Q] What are the most popular girl's names in 2016?**"
   ]
  },
  {
   "cell_type": "code",
   "execution_count": 20,
   "metadata": {},
   "outputs": [
    {
     "name": "stdout",
     "output_type": "stream",
     "text": [
      "10 rows affected.\n"
     ]
    },
    {
     "data": {
      "text/html": [
       "<table>\n",
       "    <tr>\n",
       "        <th>fname</th>\n",
       "        <th>sum</th>\n",
       "    </tr>\n",
       "    <tr>\n",
       "        <td>Emma</td>\n",
       "        <td>19414</td>\n",
       "    </tr>\n",
       "    <tr>\n",
       "        <td>Olivia</td>\n",
       "        <td>19246</td>\n",
       "    </tr>\n",
       "    <tr>\n",
       "        <td>Ava</td>\n",
       "        <td>16237</td>\n",
       "    </tr>\n",
       "    <tr>\n",
       "        <td>Sophia</td>\n",
       "        <td>16070</td>\n",
       "    </tr>\n",
       "    <tr>\n",
       "        <td>Isabella</td>\n",
       "        <td>14722</td>\n",
       "    </tr>\n",
       "    <tr>\n",
       "        <td>Mia</td>\n",
       "        <td>14366</td>\n",
       "    </tr>\n",
       "    <tr>\n",
       "        <td>Charlotte</td>\n",
       "        <td>13030</td>\n",
       "    </tr>\n",
       "    <tr>\n",
       "        <td>Abigail</td>\n",
       "        <td>11699</td>\n",
       "    </tr>\n",
       "    <tr>\n",
       "        <td>Emily</td>\n",
       "        <td>10926</td>\n",
       "    </tr>\n",
       "    <tr>\n",
       "        <td>Harper</td>\n",
       "        <td>10733</td>\n",
       "    </tr>\n",
       "</table>"
      ],
      "text/plain": [
       "[('Emma', 19414),\n",
       " ('Olivia', 19246),\n",
       " ('Ava', 16237),\n",
       " ('Sophia', 16070),\n",
       " ('Isabella', 14722),\n",
       " ('Mia', 14366),\n",
       " ('Charlotte', 13030),\n",
       " ('Abigail', 11699),\n",
       " ('Emily', 10926),\n",
       " ('Harper', 10733)]"
      ]
     },
     "execution_count": 20,
     "metadata": {},
     "output_type": "execute_result"
    }
   ],
   "source": [
    "%%sql \n",
    "\n",
    "   select fname, sum(number)\n",
    "     from baby_names\n",
    "    where (year = 2016) and (gender='F')\n",
    " group by fname \n",
    " order by sum(number) desc\n",
    "    limit 10;"
   ]
  },
  {
   "cell_type": "code",
   "execution_count": null,
   "metadata": {
    "collapsed": true
   },
   "outputs": [],
   "source": []
  }
 ],
 "metadata": {
  "kernelspec": {
   "display_name": "Python 3",
   "language": "python",
   "name": "python3"
  },
  "language_info": {
   "codemirror_mode": {
    "name": "ipython",
    "version": 3
   },
   "file_extension": ".py",
   "mimetype": "text/x-python",
   "name": "python",
   "nbconvert_exporter": "python",
   "pygments_lexer": "ipython3",
   "version": "3.6.2"
  }
 },
 "nbformat": 4,
 "nbformat_minor": 1
}
